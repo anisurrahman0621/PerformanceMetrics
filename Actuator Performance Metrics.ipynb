{
 "cells": [
  {
   "cell_type": "code",
   "execution_count": 1,
   "id": "584829c7",
   "metadata": {},
   "outputs": [],
   "source": [
    "from pathlib import Path\n",
    "import matplotlib.pyplot as plt\n",
    "import matplotlib.patches as mpatches\n",
    "import numpy as np\n",
    "import pandas as pd\n",
    "from statistics import mean, stdev\n",
    "import openpyxl\n",
    "import os\n",
    "import shutil"
   ]
  },
  {
   "cell_type": "markdown",
   "id": "471ffff0",
   "metadata": {},
   "source": [
    "## Functions"
   ]
  },
  {
   "cell_type": "code",
   "execution_count": 2,
   "id": "bf20602e",
   "metadata": {},
   "outputs": [],
   "source": [
    "def create_line_chart(case, ws, row, chart_title, x_title, y_title1, y_title2):\n",
    "    chart = LineChart()\n",
    "    vals = Reference(ws, min_col = 2, min_row = 2, max_col = 2, max_row = row)\n",
    "    x_values = Reference(ws, min_col = 1, min_row = 3, max_col = 1, max_row = row)\n",
    "    chart.set_categories(x_values)\n",
    "    chart.add_data(vals, titles_from_data = True)\n",
    "    chart.x_axis.title = x_title\n",
    "    chart.y_axis.title = y_title1\n",
    "    chart.y_axis.majorGridlines = None\n",
    "    chart.title = chart_title\n",
    "\n",
    "    chart2 = LineChart()\n",
    "    vals2 = Reference(ws, min_col = 4, min_row = 2, max_col = 4, max_row = row)\n",
    "    x_values2 = Reference(ws, min_col = 1, min_row = 3, max_col = 1, max_row = row)\n",
    "    chart2.add_data(vals2, titles_from_data = True)\n",
    "    chart2.y_axis.axId = 200\n",
    "    chart2.set_categories(x_values2)\n",
    "    chart2.y_axis.title = y_title2\n",
    "    chart2.y_axis.majorGridlines = None\n",
    "\n",
    "    chart.y_axis.crosses = \"max\"\n",
    "    chart += chart2\n",
    "    ws.add_chart(chart, \"H8\")\n",
    "\n",
    "#Standard score standardization shifts the mean to 0 and ensures that the stdev is 1.0. \n",
    "def standard_score_normalization(dictionary): \n",
    "    \"\"\"Take a dataset in the form of a dicitonary as an arg and return a standardized dataset.\"\"\"\n",
    "    cases = list(dictionary.keys())\n",
    "    new_dict = {}\n",
    "    for case in cases:\n",
    "        mean_value = mean(list(dictionary.values()))\n",
    "        val = dictionary[case]\n",
    "        sdev_val = stdev(list(dictionary.values()))\n",
    "\n",
    "        normalized_val = (val-mean_value) / sdev_val\n",
    "        new_dict[case] = normalized_val\n",
    "\n",
    "    return new_dict\n",
    "\n",
    "#min-max scaling method brings values to the range of [0,1]. \n",
    "def min_max_normalization(dictionary):\n",
    "    \"\"\"Take a dataset in the form of a dicitonary as an arg and return a normalized dataset.\"\"\"\n",
    "    cases = list(dictionary.keys())\n",
    "    new_dict = {}\n",
    "    for case in cases:\n",
    "        min_value = min(list(dictionary.values()))\n",
    "        max_value = max(list(dictionary.values()))\n",
    "        val = dictionary[case]\n",
    "\n",
    "        try:\n",
    "            normalized_val = (val-min_value) / (max_value - min_value)\n",
    "        except ZeroDivisionError:\n",
    "            normalized_val = 1.0\n",
    "        new_dict[case] = normalized_val\n",
    "\n",
    "    return new_dict\n",
    "\n",
    "def OLA_plots(cases, var1, var2, axis_labels, legend_labels, title, figure_number, location):\n",
    "    \"\"\"Create a bar plot for data sets plotted on the same x-axis with different y-axes.\"\"\"\n",
    "    fig, ax = plt.subplots(figsize = (20,10))\n",
    "    labels = cases\n",
    "    x = np.arange(len(cases))\n",
    "    ax2 = ax.twinx()\n",
    "\n",
    "    ax.set_xlabel(\"Input Parameters\")\n",
    "    ax.set_ylabel(axis_labels[0])\n",
    "    ax2.set_ylabel(axis_labels[1])\n",
    "\n",
    "    color = ['red', 'royalblue']\n",
    "    width = 0.25\n",
    "\n",
    "    p1 = ax.bar(x-width, var1, width = width, color = color[0], align = 'edge', label = legend_labels[0])\n",
    "    p2 = ax2.bar(x, var2, width = width, color = color[1], align = 'edge', label = legend_labels[1])\n",
    "\n",
    "    lns = [p1, p2]\n",
    "    ax.legend(handles = lns, loc = location)\n",
    "    ax.set_xticks(x)\n",
    "    ax.set_xticklabels(labels)\n",
    "    ax.set_title(title,fontsize=18, weight='bold')\n",
    "    plt.savefig(title, dpi = 300)\n",
    "\n",
    "    return plt.figure(figure_number)\n",
    "\n",
    "def get_scores(dictionary_array, weight_array):\n",
    "    \"\"\"Take in an array of dictionaries containing the different scoring criteria as the first argument and an array of their respective weights as the second argument. Return a score for each operating case. Dictionaries must have the same keys.\"\"\"\n",
    "    scores_dict = {}\n",
    "    inv_scores_dict = {}\n",
    "    cases = list(dictionary_array[0].keys())\n",
    "    for i in range(1, len(dictionary_array)):\n",
    "        if list(dictionary_array[i].keys()) != list(dictionary_array[i-1].keys()):\n",
    "            raise Exception('Dictionaries must have the same keys.')\n",
    "    for case in cases:\n",
    "        val_array = []\n",
    "        for dictionary in dictionary_array:\n",
    "            val_array.append(dictionary[case])\n",
    "        array_sum = 0\n",
    "        for i in range(len(weight_array)):\n",
    "            array_sum += val_array[i] * weight_array[i]\n",
    "        scores_dict[case] = array_sum\n",
    "        inv_scores_dict[array_sum] = case #flip the key-value relationship so a sorted dictionary can be created later\n",
    "    return [scores_dict, inv_scores_dict]"
   ]
  },
  {
   "cell_type": "markdown",
   "id": "95a93ea2",
   "metadata": {},
   "source": [
    "## Load Data"
   ]
  },
  {
   "cell_type": "code",
   "execution_count": 3,
   "id": "6f65a8f1",
   "metadata": {},
   "outputs": [],
   "source": [
    "path = Path(r'C:\\Users\\anisu\\OneDrive\\Desktop\\OLA2')\n",
    "folder_list = []\n",
    "path_folders = os.listdir(path)\n",
    "try:\n",
    "    path_folders.remove('seperated_cleaning_effectiveness_results.xlsx')\n",
    "except:\n",
    "    pass\n",
    "for file in path_folders:\n",
    "    if file.split(' ')[-1] == 'trial':\n",
    "        folder_list.append(file)\n",
    "df_dict = {}\n",
    "name_list = []\n",
    "df_list = []\n",
    "for folder in folder_list:\n",
    "    excel_path = path / folder / 'Output_Edge.xlsx'\n",
    "    df_outer = pd.read_excel(excel_path)\n",
    "    df_outer = df_outer[['Time', 'ObscurationNorm1', 'CleaningEffNorm1', 'Cleaning_Speed', 'Water_Consumption', 'Energy']]\n",
    "    df_outer.rename(columns = {'ObscurationNorm1': 'Obscuration', 'CleaningEffNorm1' : 'CleaningEff'}, inplace=True)\n",
    "    df_outer.set_index('Time', inplace=True)\n",
    "    df_list.append(df_outer)\n",
    "    conditions = folder.split(' ')[-2].split('_')\n",
    "    freq = conditions[2]\n",
    "    voltage = conditions[3]\n",
    "    parameter = str(freq + ' Hz ' + voltage + ' Vrms')\n",
    "    name_list.append(parameter)\n",
    "    df_dict[parameter] = df_outer\n"
   ]
  },
  {
   "cell_type": "markdown",
   "id": "11949c4f",
   "metadata": {},
   "source": [
    "## Calculate/Determine Relevant Metrics"
   ]
  },
  {
   "cell_type": "code",
   "execution_count": 4,
   "id": "a197e473",
   "metadata": {},
   "outputs": [
    {
     "data": {
      "text/html": [
       "<div>\n",
       "<style scoped>\n",
       "    .dataframe tbody tr th:only-of-type {\n",
       "        vertical-align: middle;\n",
       "    }\n",
       "\n",
       "    .dataframe tbody tr th {\n",
       "        vertical-align: top;\n",
       "    }\n",
       "\n",
       "    .dataframe thead th {\n",
       "        text-align: right;\n",
       "    }\n",
       "</style>\n",
       "<table border=\"1\" class=\"dataframe\">\n",
       "  <thead>\n",
       "    <tr style=\"text-align: right;\">\n",
       "      <th></th>\n",
       "      <th>cleaning_time</th>\n",
       "      <th>cleaning_speed</th>\n",
       "      <th>energy</th>\n",
       "      <th>water_consumption</th>\n",
       "    </tr>\n",
       "    <tr>\n",
       "      <th>Actuator Parameters</th>\n",
       "      <th></th>\n",
       "      <th></th>\n",
       "      <th></th>\n",
       "      <th></th>\n",
       "    </tr>\n",
       "  </thead>\n",
       "  <tbody>\n",
       "    <tr>\n",
       "      <th>150 Hz 80 Vrms</th>\n",
       "      <td>2.632384</td>\n",
       "      <td>19.954557</td>\n",
       "      <td>1.679610</td>\n",
       "      <td>0.1008</td>\n",
       "    </tr>\n",
       "    <tr>\n",
       "      <th>80 Hz 60 Vrms</th>\n",
       "      <td>2.632384</td>\n",
       "      <td>24.826507</td>\n",
       "      <td>0.626799</td>\n",
       "      <td>0.2560</td>\n",
       "    </tr>\n",
       "    <tr>\n",
       "      <th>60 Hz 80 Vrms</th>\n",
       "      <td>2.632384</td>\n",
       "      <td>15.442987</td>\n",
       "      <td>1.902493</td>\n",
       "      <td>0.3304</td>\n",
       "    </tr>\n",
       "  </tbody>\n",
       "</table>\n",
       "</div>"
      ],
      "text/plain": [
       "                     cleaning_time  cleaning_speed    energy  \\\n",
       "Actuator Parameters                                            \n",
       "150 Hz 80 Vrms            2.632384       19.954557  1.679610   \n",
       "80 Hz 60 Vrms             2.632384       24.826507  0.626799   \n",
       "60 Hz 80 Vrms             2.632384       15.442987  1.902493   \n",
       "\n",
       "                     water_consumption  \n",
       "Actuator Parameters                     \n",
       "150 Hz 80 Vrms                  0.1008  \n",
       "80 Hz 60 Vrms                   0.2560  \n",
       "60 Hz 80 Vrms                   0.3304  "
      ]
     },
     "execution_count": 4,
     "metadata": {},
     "output_type": "execute_result"
    }
   ],
   "source": [
    "cutoff = 60\n",
    "cleaning_time_dict = {}\n",
    "cleaning_speed_dict = {}\n",
    "energy_dict = {}\n",
    "water_consumption_dict = {}\n",
    "inverse_energy_dict = {}\n",
    "inverse_water_consumption_dict = {}\n",
    "results = {}\n",
    "for name in name_list:\n",
    "    df = df_dict[name]\n",
    "    actuator_time = df.index[df['Cleaning_Speed'] == float(df[['Cleaning_Speed']].max())].tolist()[0]\n",
    "    cutoff_val = float(df[df['CleaningEff'] >= cutoff].head(1)['CleaningEff'])\n",
    "    energy_val = float(df[df['CleaningEff'] >= cutoff].head(1)['Energy'])\n",
    "    energy_dict[name] = energy_val / 1000\n",
    "    inverse_energy_dict[name] = 1 / energy_dict[name]\n",
    "    cutoff_time = float(df.index[df['CleaningEff'] == cutoff_val].tolist()[0])\n",
    "    cleaning_time = cutoff_time - actuator_time\n",
    "    cleaning_time_dict[name] = cleaning_time\n",
    "    cleaning_speed_dict[name] = cutoff_val / cutoff_time\n",
    "    water_consumption_dict[name] = float(df_dict[name]['Water_Consumption'].head(1))\n",
    "    inverse_water_consumption_dict[name] = 1 / water_consumption_dict[name]\n",
    "    \n",
    "results['cleaning_time'] = cleaning_time\n",
    "results['cleaning_speed'] = cleaning_speed_dict\n",
    "results['water_consumption'] = water_consumption_dict\n",
    "results['energy'] = energy_dict\n",
    "results['inverse_water_consumption'] = inverse_water_consumption_dict\n",
    "results['inverse_energy'] = inverse_energy_dict\n",
    "\n",
    "results_outer_df = pd.DataFrame(results)\n",
    "results_outer_df.index.name = 'Actuator Parameters'\n",
    "results_df = results_outer_df[['cleaning_time', 'cleaning_speed', 'energy', 'water_consumption']]\n",
    "results_df"
   ]
  },
  {
   "cell_type": "markdown",
   "id": "8103f1d7",
   "metadata": {},
   "source": [
    "## Results Plots"
   ]
  },
  {
   "cell_type": "code",
   "execution_count": 5,
   "id": "9020ba2b",
   "metadata": {},
   "outputs": [
    {
     "data": {
      "text/plain": [
       "Text(0, 0.5, 'Water Consumption (mL)')"
      ]
     },
     "execution_count": 5,
     "metadata": {},
     "output_type": "execute_result"
    },
    {
     "data": {
      "text/plain": [
       "<Figure size 432x288 with 0 Axes>"
      ]
     },
     "metadata": {},
     "output_type": "display_data"
    },
    {
     "data": {
      "image/png": "[encoded data removed]",
      "text/plain": [
       "<Figure size 432x288 with 2 Axes>"
      ]
     },
     "metadata": {
      "needs_background": "light"
     },
     "output_type": "display_data"
    }
   ],
   "source": [
    "plt.figure()\n",
    "ax=results_df.plot(kind='bar', y = ['energy', 'water_consumption'], secondary_y='water_consumption', rot=0, mark_right=False)\n",
    "ax.set_ylim(0, 3)\n",
    "fig=ax.get_figure()\n",
    "ax=fig.get_axes()\n",
    "ax[1].set_ylim(0, 1)\n",
    "ax[0].set_ylabel('Energy (kJ)')\n",
    "ax[1].set_ylabel('Water Consumption (mL)')"
   ]
  },
  {
   "cell_type": "markdown",
   "id": "9be2ba5e",
   "metadata": {},
   "source": [
    "## Get Scores"
   ]
  },
  {
   "cell_type": "code",
   "execution_count": 6,
   "id": "bf76276a",
   "metadata": {},
   "outputs": [
    {
     "data": {
      "text/html": [
       "<div>\n",
       "<style scoped>\n",
       "    .dataframe tbody tr th:only-of-type {\n",
       "        vertical-align: middle;\n",
       "    }\n",
       "\n",
       "    .dataframe tbody tr th {\n",
       "        vertical-align: top;\n",
       "    }\n",
       "\n",
       "    .dataframe thead th {\n",
       "        text-align: right;\n",
       "    }\n",
       "</style>\n",
       "<table border=\"1\" class=\"dataframe\">\n",
       "  <thead>\n",
       "    <tr style=\"text-align: right;\">\n",
       "      <th></th>\n",
       "      <th>Scores</th>\n",
       "    </tr>\n",
       "    <tr>\n",
       "      <th>Actuator Parameters</th>\n",
       "      <th></th>\n",
       "    </tr>\n",
       "  </thead>\n",
       "  <tbody>\n",
       "    <tr>\n",
       "      <th>80 Hz 60 Vrms</th>\n",
       "      <td>0.912759</td>\n",
       "    </tr>\n",
       "    <tr>\n",
       "      <th>150 Hz 80 Vrms</th>\n",
       "      <td>0.449598</td>\n",
       "    </tr>\n",
       "    <tr>\n",
       "      <th>60 Hz 80 Vrms</th>\n",
       "      <td>0.000000</td>\n",
       "    </tr>\n",
       "  </tbody>\n",
       "</table>\n",
       "</div>"
      ],
      "text/plain": [
       "                       Scores\n",
       "Actuator Parameters          \n",
       "80 Hz 60 Vrms        0.912759\n",
       "150 Hz 80 Vrms       0.449598\n",
       "60 Hz 80 Vrms        0.000000"
      ]
     },
     "execution_count": 6,
     "metadata": {},
     "output_type": "execute_result"
    }
   ],
   "source": [
    "normalized_inverse_energies = min_max_normalization(inverse_energy_dict)\n",
    "normalized_inverse_water = min_max_normalization(inverse_water_consumption_dict)\n",
    "normalized_cleaning_speeds = min_max_normalization(cleaning_speed_dict)\n",
    "dict_array = [normalized_cleaning_speeds, normalized_inverse_energies, normalized_inverse_water]\n",
    "weight_array = [0.7, 0.2, 0.1]\n",
    "scores = get_scores(dict_array, weight_array)[0]\n",
    "scores_df = pd.DataFrame([scores]).T\n",
    "scores_df.columns = ['Scores']\n",
    "scores_df.index.name = 'Actuator Parameters'\n",
    "scores_df.sort_values(by = 'Scores', ascending=False)"
   ]
  },
  {
   "cell_type": "markdown",
   "id": "0f93f235",
   "metadata": {},
   "source": [
    "## Score Plots"
   ]
  },
  {
   "cell_type": "code",
   "execution_count": 7,
   "id": "5ebe8a99",
   "metadata": {},
   "outputs": [
    {
     "data": {
      "image/png": "[encoded data removed]",
      "text/plain": [
       "<Figure size 432x288 with 1 Axes>"
      ]
     },
     "metadata": {
      "needs_background": "light"
     },
     "output_type": "display_data"
    }
   ],
   "source": [
    "scores_df.sort_values(by = 'Scores', ascending=False).plot(y = 'Scores', kind = 'bar')\n",
    "plt.show()"
   ]
  },
  {
   "cell_type": "code",
   "execution_count": 8,
   "id": "3be929e1",
   "metadata": {},
   "outputs": [
    {
     "name": "stdout",
     "output_type": "stream",
     "text": [
      "Completed\n"
     ]
    }
   ],
   "source": [
    "with pd.ExcelWriter('Seperated Cleaning Results.xlsx', engine = 'openpyxl') as writer:\n",
    "    for name in name_list:\n",
    "        df = df_dict[name]\n",
    "        df.to_excel(writer, sheet_name = name)\n",
    "    writer.save()\n",
    "print('Completed')"
   ]
  }
 ],
 "metadata": {
  "kernelspec": {
   "display_name": "Python 3 (ipykernel)",
   "language": "python",
   "name": "python3"
  },
  "language_info": {
   "codemirror_mode": {
    "name": "ipython",
    "version": 3
   },
   "file_extension": ".py",
   "mimetype": "text/x-python",
   "name": "python",
   "nbconvert_exporter": "python",
   "pygments_lexer": "ipython3",
   "version": "3.10.5"
  }
 },
 "nbformat": 4,
 "nbformat_minor": 5
}
